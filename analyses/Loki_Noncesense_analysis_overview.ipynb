{
 "cells": [
  {
   "cell_type": "markdown",
   "metadata": {},
   "source": [
    "## Poking around the Loki timestamps \n",
    "\n",
    "Playing with our new archival [Loki](https://loki.network) node.\n",
    "\n",
    "Loki archival daemon countesy of [NeptuneResearch](https://github.com/neptuneresearch)\n",
    "\n",
    "Analysis by [Isthmus](https://github.com/mitchellpkt)\n",
    "\n",
    "Learn more at [Noncesense Research Lab](http://www.noncesense.org)"
   ]
  },
  {
   "cell_type": "markdown",
   "metadata": {},
   "source": [
    "# Import "
   ]
  },
  {
   "cell_type": "markdown",
   "metadata": {},
   "source": [
    "### Libraries"
   ]
  },
  {
   "cell_type": "code",
   "execution_count": 1,
   "metadata": {},
   "outputs": [],
   "source": [
    "import pandas as pd\n",
    "import matplotlib.pyplot as plt\n",
    "import numpy as np"
   ]
  },
  {
   "cell_type": "markdown",
   "metadata": {},
   "source": [
    "### Presets"
   ]
  },
  {
   "cell_type": "code",
   "execution_count": 2,
   "metadata": {},
   "outputs": [],
   "source": [
    "green = green = (0, .93, 0)\n",
    "gray = (76/256,76/256,76/256)\n",
    "plt.rcParams.update({'font.size': 15})"
   ]
  },
  {
   "cell_type": "markdown",
   "metadata": {},
   "source": [
    "### Data"
   ]
  },
  {
   "cell_type": "code",
   "execution_count": 3,
   "metadata": {},
   "outputs": [
    {
     "data": {
      "text/html": [
       "<div>\n",
       "<style scoped>\n",
       "    .dataframe tbody tr th:only-of-type {\n",
       "        vertical-align: middle;\n",
       "    }\n",
       "\n",
       "    .dataframe tbody tr th {\n",
       "        vertical-align: top;\n",
       "    }\n",
       "\n",
       "    .dataframe thead th {\n",
       "        text-align: right;\n",
       "    }\n",
       "</style>\n",
       "<table border=\"1\" class=\"dataframe\">\n",
       "  <thead>\n",
       "    <tr style=\"text-align: right;\">\n",
       "      <th></th>\n",
       "      <th>bool_is_main</th>\n",
       "      <th>node_receipt_timestamp</th>\n",
       "      <th>unk</th>\n",
       "      <th>major_version</th>\n",
       "      <th>minor_version</th>\n",
       "      <th>miner_reported_timestamp</th>\n",
       "      <th>nonce</th>\n",
       "    </tr>\n",
       "  </thead>\n",
       "  <tbody>\n",
       "    <tr>\n",
       "      <th>0</th>\n",
       "      <td>1</td>\n",
       "      <td>1551680967534</td>\n",
       "      <td>0</td>\n",
       "      <td>10</td>\n",
       "      <td>10</td>\n",
       "      <td>1551680099</td>\n",
       "      <td>805374039</td>\n",
       "    </tr>\n",
       "    <tr>\n",
       "      <th>1</th>\n",
       "      <td>1</td>\n",
       "      <td>1551680967634</td>\n",
       "      <td>0</td>\n",
       "      <td>10</td>\n",
       "      <td>10</td>\n",
       "      <td>1551680127</td>\n",
       "      <td>709894</td>\n",
       "    </tr>\n",
       "    <tr>\n",
       "      <th>2</th>\n",
       "      <td>1</td>\n",
       "      <td>1551680967647</td>\n",
       "      <td>0</td>\n",
       "      <td>10</td>\n",
       "      <td>10</td>\n",
       "      <td>1551680220</td>\n",
       "      <td>3607114846</td>\n",
       "    </tr>\n",
       "    <tr>\n",
       "      <th>3</th>\n",
       "      <td>1</td>\n",
       "      <td>1551680967652</td>\n",
       "      <td>0</td>\n",
       "      <td>10</td>\n",
       "      <td>10</td>\n",
       "      <td>1551680226</td>\n",
       "      <td>1288495476</td>\n",
       "    </tr>\n",
       "    <tr>\n",
       "      <th>4</th>\n",
       "      <td>1</td>\n",
       "      <td>1551680967658</td>\n",
       "      <td>0</td>\n",
       "      <td>10</td>\n",
       "      <td>10</td>\n",
       "      <td>1551680233</td>\n",
       "      <td>402699573</td>\n",
       "    </tr>\n",
       "  </tbody>\n",
       "</table>\n",
       "</div>"
      ],
      "text/plain": [
       "   bool_is_main  node_receipt_timestamp  unk  major_version  minor_version  \\\n",
       "0             1           1551680967534    0             10             10   \n",
       "1             1           1551680967634    0             10             10   \n",
       "2             1           1551680967647    0             10             10   \n",
       "3             1           1551680967652    0             10             10   \n",
       "4             1           1551680967658    0             10             10   \n",
       "\n",
       "   miner_reported_timestamp       nonce  \n",
       "0                1551680099   805374039  \n",
       "1                1551680127      709894  \n",
       "2                1551680220  3607114846  \n",
       "3                1551680226  1288495476  \n",
       "4                1551680233   402699573  "
      ]
     },
     "execution_count": 3,
     "metadata": {},
     "output_type": "execute_result"
    }
   ],
   "source": [
    "df = pd.read_csv('./data_for_analysis/loki_clean_csv.csv')\n",
    "df.head()"
   ]
  },
  {
   "cell_type": "markdown",
   "metadata": {},
   "source": [
    "# Analyze"
   ]
  },
  {
   "cell_type": "markdown",
   "metadata": {},
   "source": [
    "## Nonces"
   ]
  },
  {
   "cell_type": "code",
   "execution_count": 4,
   "metadata": {},
   "outputs": [
    {
     "data": {
      "image/png": "[encoded data removed]",
      "text/plain": [
       "<Figure size 504x288 with 1 Axes>"
      ]
     },
     "metadata": {},
     "output_type": "display_data"
    }
   ],
   "source": [
    "fig, ax = plt.subplots(figsize=(7,4))\n",
    "n, bins, patches = ax.hist(df.nonce, color=gray, bins=40)  \n",
    "ax.set_facecolor(green)\n",
    "plt.xlabel('nonce')\n",
    "plt.ylabel('Occurrences')\n",
    "plt.title('Loki nonces')\n",
    "plt.xlim((0,2**32-1));"
   ]
  },
  {
   "cell_type": "markdown",
   "metadata": {},
   "source": [
    "## Timestamps"
   ]
  },
  {
   "cell_type": "code",
   "execution_count": 5,
   "metadata": {},
   "outputs": [
    {
     "data": {
      "image/png": "[encoded data removed]",
      "text/plain": [
       "<Figure size 504x288 with 1 Axes>"
      ]
     },
     "metadata": {},
     "output_type": "display_data"
    }
   ],
   "source": [
    "# Calculate lag\n",
    "block_lag = df.node_receipt_timestamp/1000-df.miner_reported_timestamp\n",
    "\n",
    "# Plot figure\n",
    "fig, ax = plt.subplots(figsize=(7,4))\n",
    "n, bins, patches = ax.hist(block_lag, color=gray, bins=40)  \n",
    "ax.set_facecolor(green)\n",
    "plt.xlabel('Lag between timestamp and receipt (seconds)')\n",
    "plt.ylabel('Occurrences')\n",
    "plt.xlim(0,max(block_lag))\n",
    "plt.title('Loki block receipt lag (Noncesense Archival Network)');"
   ]
  }
 ],
 "metadata": {
  "kernelspec": {
   "display_name": "Python 3",
   "language": "python",
   "name": "python3"
  },
  "language_info": {
   "codemirror_mode": {
    "name": "ipython",
    "version": 3
   },
   "file_extension": ".py",
   "mimetype": "text/x-python",
   "name": "python",
   "nbconvert_exporter": "python",
   "pygments_lexer": "ipython3",
   "version": "3.6.8"
  }
 },
 "nbformat": 4,
 "nbformat_minor": 2
}
